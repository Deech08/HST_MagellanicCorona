{
 "cells": [
  {
   "cell_type": "code",
   "execution_count": 1,
   "id": "9ed5d122",
   "metadata": {},
   "outputs": [],
   "source": [
    "import numpy as np\n",
    "import astropy.units as u\n",
    "import matplotlib.pyplot as plt\n",
    "\n",
    "from astropy.coordinates import SkyCoord\n",
    "from astropy.table import QTable\n",
    "%matplotlib notebook\n",
    "\n",
    "import seaborn as sns\n",
    "pal = sns.color_palette(\"colorblind\")\n",
    "\n",
    "import pickle\n",
    "\n",
    "import linmix\n",
    "\n",
    "from matplotlib.ticker import (MultipleLocator, AutoMinorLocator)"
   ]
  },
  {
   "cell_type": "code",
   "execution_count": 18,
   "id": "6594a4ad",
   "metadata": {},
   "outputs": [],
   "source": [
    "#Load Data\n",
    "summed_columns = QTable.read(\"Data/SUMMED_ION_COLUMNS_wHII.fits\")\n",
    "\n",
    "\n"
   ]
  },
  {
   "cell_type": "code",
   "execution_count": 21,
   "id": "611e424c",
   "metadata": {},
   "outputs": [],
   "source": [
    "D = 50*u.kpc\n",
    "theta = np.arctan2(summed_columns[\"RHO_LMC\"],D)\n",
    "new_rho = D * np.sin(theta)"
   ]
  },
  {
   "cell_type": "code",
   "execution_count": 22,
   "id": "13581c86",
   "metadata": {},
   "outputs": [],
   "source": [
    "summed_columns[\"RHO_LMC\"] = new_rho"
   ]
  },
  {
   "cell_type": "code",
   "execution_count": 23,
   "id": "dc0d2d88",
   "metadata": {},
   "outputs": [],
   "source": [
    "summed_columns.write(\"Data/SUMMED_ION_COLUMNS_wHII.fits\", overwrite = True)"
   ]
  },
  {
   "cell_type": "code",
   "execution_count": 24,
   "id": "003888cc",
   "metadata": {},
   "outputs": [],
   "source": [
    "full_ideal_res = QTable.read(\"Data/FIT_AND_CLOUDY_RESULTS.fits\")"
   ]
  },
  {
   "cell_type": "code",
   "execution_count": 26,
   "id": "fe4cad8a",
   "metadata": {},
   "outputs": [],
   "source": [
    "D = 50*u.kpc\n",
    "theta = np.arctan2(full_ideal_res[\"RHO_LMC\"],D)\n",
    "new_rho = D * np.sin(theta)"
   ]
  },
  {
   "cell_type": "code",
   "execution_count": 27,
   "id": "e306e2ba",
   "metadata": {},
   "outputs": [],
   "source": [
    "full_ideal_res[\"RHO_LMC\"] = new_rho"
   ]
  },
  {
   "cell_type": "code",
   "execution_count": 28,
   "id": "16487c9c",
   "metadata": {},
   "outputs": [],
   "source": [
    "full_ideal_res.write(\"Data/FIT_AND_CLOUDY_RESULTS.fits\", overwrite = True)"
   ]
  },
  {
   "cell_type": "code",
   "execution_count": 38,
   "id": "c068d08c",
   "metadata": {},
   "outputs": [],
   "source": [
    "dic = {}\n",
    "for row in summed_columns:\n",
    "    dic[row[\"SOURCE\"]] = row[\"RHO_LMC\"].value.round(1)"
   ]
  },
  {
   "cell_type": "code",
   "execution_count": 39,
   "id": "b149b855",
   "metadata": {},
   "outputs": [
    {
     "data": {
      "text/plain": [
       "{'PKS0637-75': 6.7,\n",
       " 'HE0246-4101': 28.8,\n",
       " 'RBS144': 28.6,\n",
       " 'PKS0552-640': 5.5,\n",
       " 'PKS0202-76': 13.3,\n",
       " 'HE0003-5023': 32.5,\n",
       " 'UVQSJ045415.95-611626.6': 7.8,\n",
       " 'HE0419-5657': 12.6,\n",
       " 'UKS0242-724': 11.3,\n",
       " 'IRAS_F21325-6237': 32.5,\n",
       " 'IRAS_Z06229-6434': 6.7,\n",
       " 'RBS567': 14.9,\n",
       " 'PKS0558-504': 16.9,\n",
       " 'RX_J0503.1-6634': 3.2,\n",
       " '1H0419-577': 12.1,\n",
       " 'RBS1992': 23.4,\n",
       " 'ESO031-G08': 9.7,\n",
       " 'PKS0355-483': 20.3,\n",
       " 'HE0153-4520': 29.0,\n",
       " 'HE0439-5254': 15.2,\n",
       " 'HE0038-5114': 30.0,\n",
       " 'HE0226-4110': 29.8,\n",
       " 'HE2336-5540': 30.9,\n",
       " 'RBS563': 8.0,\n",
       " 'HE0331-4112': 26.6,\n",
       " 'HE0435-5304': 15.1,\n",
       " 'HE2305-5315': 33.9,\n",
       " 'FAIRALL9': 22.6}"
      ]
     },
     "execution_count": 39,
     "metadata": {},
     "output_type": "execute_result"
    }
   ],
   "source": [
    "dic"
   ]
  },
  {
   "cell_type": "code",
   "execution_count": 47,
   "id": "72da16ef",
   "metadata": {},
   "outputs": [
    {
     "data": {
      "text/latex": [
       "$42.647938 \\; \\mathrm{{}^{\\circ}}$"
      ],
      "text/plain": [
       "<Quantity 42.64793816 deg>"
      ]
     },
     "execution_count": 47,
     "metadata": {},
     "output_type": "execute_result"
    }
   ],
   "source": [
    "np.arcsin(summed_columns[\"RHO_LMC\"]/D).max().to(u.deg)"
   ]
  },
  {
   "cell_type": "code",
   "execution_count": null,
   "id": "05677fec",
   "metadata": {},
   "outputs": [],
   "source": []
  }
 ],
 "metadata": {
  "kernelspec": {
   "display_name": "Python 3 (ipykernel)",
   "language": "python",
   "name": "python3"
  },
  "language_info": {
   "codemirror_mode": {
    "name": "ipython",
    "version": 3
   },
   "file_extension": ".py",
   "mimetype": "text/x-python",
   "name": "python",
   "nbconvert_exporter": "python",
   "pygments_lexer": "ipython3",
   "version": "3.8.12"
  }
 },
 "nbformat": 4,
 "nbformat_minor": 5
}
