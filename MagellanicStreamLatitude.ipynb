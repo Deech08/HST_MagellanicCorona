{
 "cells": [
  {
   "cell_type": "code",
   "execution_count": 1,
   "id": "5770eebf",
   "metadata": {},
   "outputs": [],
   "source": [
    "import numpy as np\n",
    "import pickle\n",
    "import matplotlib.pyplot as plt\n",
    "import seaborn as sns\n",
    "\n",
    "from astropy.coordinates import SkyCoord, Angle\n",
    "import astropy.units as u\n",
    "from astropy.table import QTable\n",
    "\n",
    "import pandas as pd\n",
    "import pingouin as pg\n",
    "from gala.coordinates import MagellanicStreamNidever08\n",
    "\n",
    "%matplotlib notebook"
   ]
  },
  {
   "cell_type": "code",
   "execution_count": 2,
   "id": "19716745",
   "metadata": {},
   "outputs": [],
   "source": [
    "#Load High ion absorption line measurements\n",
    "summed_columns = QTable.read(\"Data/SUMMED_ION_COLUMNS.fits\")"
   ]
  },
  {
   "cell_type": "code",
   "execution_count": 3,
   "id": "72df9acd",
   "metadata": {},
   "outputs": [],
   "source": [
    "source_gal = SkyCoord(l = summed_columns[\"GAL_LON\"], b = summed_columns[\"GAL_LAT\"], frame = \"galactic\")\n",
    "source_ms = source_gal.transform_to(MagellanicStreamNidever08())"
   ]
  },
  {
   "cell_type": "code",
   "execution_count": 4,
   "id": "b9f4ce28",
   "metadata": {},
   "outputs": [],
   "source": [
    "CIV_mask = summed_columns[\"LOG_N_ERR_CIV\"] > 0\n",
    "CIV_df = pd.DataFrame({\"N\":summed_columns[\"LOG_N_CIV\"][CIV_mask].data.byteswap().newbyteorder(),\n",
    "                       \"RHO\":summed_columns[\"RHO_LMC\"][CIV_mask].value.byteswap().newbyteorder(), \n",
    "                       \"MS_LAT\":np.abs(source_ms.B[CIV_mask].value)})\n",
    "\n",
    "SiIV_mask = summed_columns[\"LOG_N_ERR_SiIV\"] > 0\n",
    "SiIV_df = pd.DataFrame({\"N\":summed_columns[\"LOG_N_SiIV\"][SiIV_mask].data.byteswap().newbyteorder(),\n",
    "                       \"RHO\":summed_columns[\"RHO_LMC\"][SiIV_mask].value.byteswap().newbyteorder(), \n",
    "                       \"MS_LAT\":np.abs(source_ms.B[SiIV_mask].value)})\n",
    "\n",
    "SiII_mask = summed_columns[\"LOG_N_ERR_SiII\"] > 0\n",
    "SiII_df = pd.DataFrame({\"N\":summed_columns[\"LOG_N_SiII\"][SiII_mask].data.byteswap().newbyteorder(),\n",
    "                       \"RHO\":summed_columns[\"RHO_LMC\"][SiII_mask].value.byteswap().newbyteorder(), \n",
    "                       \"MS_LAT\":np.abs(source_ms.B[SiII_mask].value)})\n",
    "\n",
    "SiIII_mask = summed_columns[\"LOG_N_ERR_SiIII\"] > 0\n",
    "SiIII_df = pd.DataFrame({\"N\":summed_columns[\"LOG_N_SiIII\"][SiIII_mask].data.byteswap().newbyteorder(),\n",
    "                       \"RHO\":summed_columns[\"RHO_LMC\"][SiIII_mask].value.byteswap().newbyteorder(), \n",
    "                       \"MS_LAT\":np.abs(source_ms.B[SiIII_mask].value)})\n",
    "\n",
    "\n",
    "CII_mask = summed_columns[\"LOG_N_ERR_CII\"] > 0\n",
    "CII_df = pd.DataFrame({\"N\":summed_columns[\"LOG_N_CII\"][CII_mask].data.byteswap().newbyteorder(),\n",
    "                       \"RHO\":summed_columns[\"RHO_LMC\"][CII_mask].value.byteswap().newbyteorder(), \n",
    "                       \"MS_LAT\":np.abs(source_ms.B[CII_mask].value)})\n",
    "\n",
    "AlII_mask = summed_columns[\"LOG_N_ERR_AlII\"] > 0\n",
    "AlII_df = pd.DataFrame({\"N\":summed_columns[\"LOG_N_AlII\"][AlII_mask].data.byteswap().newbyteorder(),\n",
    "                       \"RHO\":summed_columns[\"RHO_LMC\"][AlII_mask].value.byteswap().newbyteorder(), \n",
    "                       \"MS_LAT\":np.abs(source_ms.B[AlII_mask].value)})\n",
    "\n",
    "FeII_mask = summed_columns[\"LOG_N_ERR_FeII\"] > 0\n",
    "FeII_df = pd.DataFrame({\"N\":summed_columns[\"LOG_N_FeII\"][FeII_mask].data.byteswap().newbyteorder(),\n",
    "                       \"RHO\":summed_columns[\"RHO_LMC\"][FeII_mask].value.byteswap().newbyteorder(), \n",
    "                       \"MS_LAT\":np.abs(source_ms.B[FeII_mask].value)})\n",
    "\n",
    "OI_mask = summed_columns[\"LOG_N_ERR_OI\"] > 0\n",
    "OI_df = pd.DataFrame({\"N\":summed_columns[\"LOG_N_OI\"][OI_mask].data.byteswap().newbyteorder(),\n",
    "                       \"RHO\":summed_columns[\"RHO_LMC\"][OI_mask].value.byteswap().newbyteorder(), \n",
    "                       \"MS_LAT\":np.abs(source_ms.B[OI_mask].value)})"
   ]
  },
  {
   "cell_type": "markdown",
   "id": "7cdfcd46",
   "metadata": {},
   "source": [
    "## C IV"
   ]
  },
  {
   "cell_type": "code",
   "execution_count": 5,
   "id": "40d4b82d",
   "metadata": {},
   "outputs": [
    {
     "data": {
      "text/html": [
       "<div>\n",
       "<style scoped>\n",
       "    .dataframe tbody tr th:only-of-type {\n",
       "        vertical-align: middle;\n",
       "    }\n",
       "\n",
       "    .dataframe tbody tr th {\n",
       "        vertical-align: top;\n",
       "    }\n",
       "\n",
       "    .dataframe thead th {\n",
       "        text-align: right;\n",
       "    }\n",
       "</style>\n",
       "<table border=\"1\" class=\"dataframe\">\n",
       "  <thead>\n",
       "    <tr style=\"text-align: right;\">\n",
       "      <th></th>\n",
       "      <th>n</th>\n",
       "      <th>r</th>\n",
       "      <th>CI95%</th>\n",
       "      <th>p-val</th>\n",
       "    </tr>\n",
       "  </thead>\n",
       "  <tbody>\n",
       "    <tr>\n",
       "      <th>spearman</th>\n",
       "      <td>17</td>\n",
       "      <td>-0.793</td>\n",
       "      <td>[-0.92, -0.49]</td>\n",
       "      <td>0.0</td>\n",
       "    </tr>\n",
       "  </tbody>\n",
       "</table>\n",
       "</div>"
      ],
      "text/plain": [
       "           n      r           CI95%  p-val\n",
       "spearman  17 -0.793  [-0.92, -0.49]    0.0"
      ]
     },
     "execution_count": 5,
     "metadata": {},
     "output_type": "execute_result"
    }
   ],
   "source": [
    "pg.partial_corr(data=CIV_df, x='N', y='RHO', covar='MS_LAT', method = \"spearman\").round(3)"
   ]
  },
  {
   "cell_type": "code",
   "execution_count": 6,
   "id": "8f33b19f",
   "metadata": {},
   "outputs": [
    {
     "data": {
      "text/html": [
       "<div>\n",
       "<style scoped>\n",
       "    .dataframe tbody tr th:only-of-type {\n",
       "        vertical-align: middle;\n",
       "    }\n",
       "\n",
       "    .dataframe tbody tr th {\n",
       "        vertical-align: top;\n",
       "    }\n",
       "\n",
       "    .dataframe thead th {\n",
       "        text-align: right;\n",
       "    }\n",
       "</style>\n",
       "<table border=\"1\" class=\"dataframe\">\n",
       "  <thead>\n",
       "    <tr style=\"text-align: right;\">\n",
       "      <th></th>\n",
       "      <th>n</th>\n",
       "      <th>r</th>\n",
       "      <th>CI95%</th>\n",
       "      <th>p-val</th>\n",
       "    </tr>\n",
       "  </thead>\n",
       "  <tbody>\n",
       "    <tr>\n",
       "      <th>spearman</th>\n",
       "      <td>17</td>\n",
       "      <td>0.323</td>\n",
       "      <td>[-0.21, 0.71]</td>\n",
       "      <td>0.222</td>\n",
       "    </tr>\n",
       "  </tbody>\n",
       "</table>\n",
       "</div>"
      ],
      "text/plain": [
       "           n      r          CI95%  p-val\n",
       "spearman  17  0.323  [-0.21, 0.71]  0.222"
      ]
     },
     "execution_count": 6,
     "metadata": {},
     "output_type": "execute_result"
    }
   ],
   "source": [
    "pg.partial_corr(data=CIV_df, x='N', y='MS_LAT', covar='RHO', method = \"spearman\").round(3)"
   ]
  },
  {
   "cell_type": "markdown",
   "id": "3af8ed35",
   "metadata": {},
   "source": [
    "## Si IV"
   ]
  },
  {
   "cell_type": "code",
   "execution_count": 7,
   "id": "ff24a112",
   "metadata": {},
   "outputs": [
    {
     "data": {
      "text/html": [
       "<div>\n",
       "<style scoped>\n",
       "    .dataframe tbody tr th:only-of-type {\n",
       "        vertical-align: middle;\n",
       "    }\n",
       "\n",
       "    .dataframe tbody tr th {\n",
       "        vertical-align: top;\n",
       "    }\n",
       "\n",
       "    .dataframe thead th {\n",
       "        text-align: right;\n",
       "    }\n",
       "</style>\n",
       "<table border=\"1\" class=\"dataframe\">\n",
       "  <thead>\n",
       "    <tr style=\"text-align: right;\">\n",
       "      <th></th>\n",
       "      <th>n</th>\n",
       "      <th>r</th>\n",
       "      <th>CI95%</th>\n",
       "      <th>p-val</th>\n",
       "    </tr>\n",
       "  </thead>\n",
       "  <tbody>\n",
       "    <tr>\n",
       "      <th>spearman</th>\n",
       "      <td>17</td>\n",
       "      <td>-0.524</td>\n",
       "      <td>[-0.81, -0.04]</td>\n",
       "      <td>0.037</td>\n",
       "    </tr>\n",
       "  </tbody>\n",
       "</table>\n",
       "</div>"
      ],
      "text/plain": [
       "           n      r           CI95%  p-val\n",
       "spearman  17 -0.524  [-0.81, -0.04]  0.037"
      ]
     },
     "execution_count": 7,
     "metadata": {},
     "output_type": "execute_result"
    }
   ],
   "source": [
    "pg.partial_corr(data=SiIV_df, x='N', y='RHO', covar='MS_LAT', method = \"spearman\").round(3)"
   ]
  },
  {
   "cell_type": "code",
   "execution_count": 8,
   "id": "6b38f7a9",
   "metadata": {},
   "outputs": [
    {
     "data": {
      "text/html": [
       "<div>\n",
       "<style scoped>\n",
       "    .dataframe tbody tr th:only-of-type {\n",
       "        vertical-align: middle;\n",
       "    }\n",
       "\n",
       "    .dataframe tbody tr th {\n",
       "        vertical-align: top;\n",
       "    }\n",
       "\n",
       "    .dataframe thead th {\n",
       "        text-align: right;\n",
       "    }\n",
       "</style>\n",
       "<table border=\"1\" class=\"dataframe\">\n",
       "  <thead>\n",
       "    <tr style=\"text-align: right;\">\n",
       "      <th></th>\n",
       "      <th>n</th>\n",
       "      <th>r</th>\n",
       "      <th>CI95%</th>\n",
       "      <th>p-val</th>\n",
       "    </tr>\n",
       "  </thead>\n",
       "  <tbody>\n",
       "    <tr>\n",
       "      <th>spearman</th>\n",
       "      <td>17</td>\n",
       "      <td>0.244</td>\n",
       "      <td>[-0.29, 0.66]</td>\n",
       "      <td>0.362</td>\n",
       "    </tr>\n",
       "  </tbody>\n",
       "</table>\n",
       "</div>"
      ],
      "text/plain": [
       "           n      r          CI95%  p-val\n",
       "spearman  17  0.244  [-0.29, 0.66]  0.362"
      ]
     },
     "execution_count": 8,
     "metadata": {},
     "output_type": "execute_result"
    }
   ],
   "source": [
    "pg.partial_corr(data=SiIV_df, x='N', y='MS_LAT', covar='RHO', method = \"spearman\").round(3)"
   ]
  },
  {
   "cell_type": "markdown",
   "id": "1ef08f78",
   "metadata": {},
   "source": [
    "# Si II"
   ]
  },
  {
   "cell_type": "code",
   "execution_count": 9,
   "id": "d92e7b56",
   "metadata": {},
   "outputs": [
    {
     "data": {
      "text/html": [
       "<div>\n",
       "<style scoped>\n",
       "    .dataframe tbody tr th:only-of-type {\n",
       "        vertical-align: middle;\n",
       "    }\n",
       "\n",
       "    .dataframe tbody tr th {\n",
       "        vertical-align: top;\n",
       "    }\n",
       "\n",
       "    .dataframe thead th {\n",
       "        text-align: right;\n",
       "    }\n",
       "</style>\n",
       "<table border=\"1\" class=\"dataframe\">\n",
       "  <thead>\n",
       "    <tr style=\"text-align: right;\">\n",
       "      <th></th>\n",
       "      <th>n</th>\n",
       "      <th>r</th>\n",
       "      <th>CI95%</th>\n",
       "      <th>p-val</th>\n",
       "    </tr>\n",
       "  </thead>\n",
       "  <tbody>\n",
       "    <tr>\n",
       "      <th>spearman</th>\n",
       "      <td>21</td>\n",
       "      <td>-0.583</td>\n",
       "      <td>[-0.82, -0.19]</td>\n",
       "      <td>0.007</td>\n",
       "    </tr>\n",
       "  </tbody>\n",
       "</table>\n",
       "</div>"
      ],
      "text/plain": [
       "           n      r           CI95%  p-val\n",
       "spearman  21 -0.583  [-0.82, -0.19]  0.007"
      ]
     },
     "execution_count": 9,
     "metadata": {},
     "output_type": "execute_result"
    }
   ],
   "source": [
    "pg.partial_corr(data=SiII_df, x='N', y='RHO', covar='MS_LAT', method = \"spearman\").round(3)"
   ]
  },
  {
   "cell_type": "code",
   "execution_count": 10,
   "id": "3012ab19",
   "metadata": {},
   "outputs": [
    {
     "data": {
      "text/html": [
       "<div>\n",
       "<style scoped>\n",
       "    .dataframe tbody tr th:only-of-type {\n",
       "        vertical-align: middle;\n",
       "    }\n",
       "\n",
       "    .dataframe tbody tr th {\n",
       "        vertical-align: top;\n",
       "    }\n",
       "\n",
       "    .dataframe thead th {\n",
       "        text-align: right;\n",
       "    }\n",
       "</style>\n",
       "<table border=\"1\" class=\"dataframe\">\n",
       "  <thead>\n",
       "    <tr style=\"text-align: right;\">\n",
       "      <th></th>\n",
       "      <th>n</th>\n",
       "      <th>r</th>\n",
       "      <th>CI95%</th>\n",
       "      <th>p-val</th>\n",
       "    </tr>\n",
       "  </thead>\n",
       "  <tbody>\n",
       "    <tr>\n",
       "      <th>spearman</th>\n",
       "      <td>21</td>\n",
       "      <td>-0.328</td>\n",
       "      <td>[-0.67, 0.13]</td>\n",
       "      <td>0.159</td>\n",
       "    </tr>\n",
       "  </tbody>\n",
       "</table>\n",
       "</div>"
      ],
      "text/plain": [
       "           n      r          CI95%  p-val\n",
       "spearman  21 -0.328  [-0.67, 0.13]  0.159"
      ]
     },
     "execution_count": 10,
     "metadata": {},
     "output_type": "execute_result"
    }
   ],
   "source": [
    "pg.partial_corr(data=SiII_df, x='N', y='MS_LAT', covar='RHO', method = \"spearman\").round(3)"
   ]
  },
  {
   "cell_type": "markdown",
   "id": "368748af",
   "metadata": {},
   "source": [
    "## Si III"
   ]
  },
  {
   "cell_type": "code",
   "execution_count": 11,
   "id": "8d9cd9a4",
   "metadata": {},
   "outputs": [
    {
     "data": {
      "text/html": [
       "<div>\n",
       "<style scoped>\n",
       "    .dataframe tbody tr th:only-of-type {\n",
       "        vertical-align: middle;\n",
       "    }\n",
       "\n",
       "    .dataframe tbody tr th {\n",
       "        vertical-align: top;\n",
       "    }\n",
       "\n",
       "    .dataframe thead th {\n",
       "        text-align: right;\n",
       "    }\n",
       "</style>\n",
       "<table border=\"1\" class=\"dataframe\">\n",
       "  <thead>\n",
       "    <tr style=\"text-align: right;\">\n",
       "      <th></th>\n",
       "      <th>n</th>\n",
       "      <th>r</th>\n",
       "      <th>CI95%</th>\n",
       "      <th>p-val</th>\n",
       "    </tr>\n",
       "  </thead>\n",
       "  <tbody>\n",
       "    <tr>\n",
       "      <th>spearman</th>\n",
       "      <td>22</td>\n",
       "      <td>-0.664</td>\n",
       "      <td>[-0.85, -0.33]</td>\n",
       "      <td>0.001</td>\n",
       "    </tr>\n",
       "  </tbody>\n",
       "</table>\n",
       "</div>"
      ],
      "text/plain": [
       "           n      r           CI95%  p-val\n",
       "spearman  22 -0.664  [-0.85, -0.33]  0.001"
      ]
     },
     "execution_count": 11,
     "metadata": {},
     "output_type": "execute_result"
    }
   ],
   "source": [
    "pg.partial_corr(data=SiIII_df, x='N', y='RHO', covar='MS_LAT', method = \"spearman\").round(3)"
   ]
  },
  {
   "cell_type": "code",
   "execution_count": 12,
   "id": "96cd41e3",
   "metadata": {},
   "outputs": [
    {
     "data": {
      "text/html": [
       "<div>\n",
       "<style scoped>\n",
       "    .dataframe tbody tr th:only-of-type {\n",
       "        vertical-align: middle;\n",
       "    }\n",
       "\n",
       "    .dataframe tbody tr th {\n",
       "        vertical-align: top;\n",
       "    }\n",
       "\n",
       "    .dataframe thead th {\n",
       "        text-align: right;\n",
       "    }\n",
       "</style>\n",
       "<table border=\"1\" class=\"dataframe\">\n",
       "  <thead>\n",
       "    <tr style=\"text-align: right;\">\n",
       "      <th></th>\n",
       "      <th>n</th>\n",
       "      <th>r</th>\n",
       "      <th>CI95%</th>\n",
       "      <th>p-val</th>\n",
       "    </tr>\n",
       "  </thead>\n",
       "  <tbody>\n",
       "    <tr>\n",
       "      <th>spearman</th>\n",
       "      <td>22</td>\n",
       "      <td>-0.158</td>\n",
       "      <td>[-0.55, 0.29]</td>\n",
       "      <td>0.494</td>\n",
       "    </tr>\n",
       "  </tbody>\n",
       "</table>\n",
       "</div>"
      ],
      "text/plain": [
       "           n      r          CI95%  p-val\n",
       "spearman  22 -0.158  [-0.55, 0.29]  0.494"
      ]
     },
     "execution_count": 12,
     "metadata": {},
     "output_type": "execute_result"
    }
   ],
   "source": [
    "pg.partial_corr(data=SiIII_df, x='N', y='MS_LAT', covar='RHO', method = \"spearman\").round(3)"
   ]
  },
  {
   "cell_type": "markdown",
   "id": "4606091a",
   "metadata": {},
   "source": [
    "## Al II"
   ]
  },
  {
   "cell_type": "code",
   "execution_count": 13,
   "id": "cc58ec07",
   "metadata": {},
   "outputs": [
    {
     "data": {
      "text/html": [
       "<div>\n",
       "<style scoped>\n",
       "    .dataframe tbody tr th:only-of-type {\n",
       "        vertical-align: middle;\n",
       "    }\n",
       "\n",
       "    .dataframe tbody tr th {\n",
       "        vertical-align: top;\n",
       "    }\n",
       "\n",
       "    .dataframe thead th {\n",
       "        text-align: right;\n",
       "    }\n",
       "</style>\n",
       "<table border=\"1\" class=\"dataframe\">\n",
       "  <thead>\n",
       "    <tr style=\"text-align: right;\">\n",
       "      <th></th>\n",
       "      <th>n</th>\n",
       "      <th>r</th>\n",
       "      <th>CI95%</th>\n",
       "      <th>p-val</th>\n",
       "    </tr>\n",
       "  </thead>\n",
       "  <tbody>\n",
       "    <tr>\n",
       "      <th>spearman</th>\n",
       "      <td>18</td>\n",
       "      <td>-0.534</td>\n",
       "      <td>[-0.81, -0.07]</td>\n",
       "      <td>0.027</td>\n",
       "    </tr>\n",
       "  </tbody>\n",
       "</table>\n",
       "</div>"
      ],
      "text/plain": [
       "           n      r           CI95%  p-val\n",
       "spearman  18 -0.534  [-0.81, -0.07]  0.027"
      ]
     },
     "execution_count": 13,
     "metadata": {},
     "output_type": "execute_result"
    }
   ],
   "source": [
    "pg.partial_corr(data=AlII_df, x='N', y='RHO', covar='MS_LAT', method = \"spearman\").round(3)"
   ]
  },
  {
   "cell_type": "code",
   "execution_count": 14,
   "id": "77c824c7",
   "metadata": {},
   "outputs": [
    {
     "data": {
      "text/html": [
       "<div>\n",
       "<style scoped>\n",
       "    .dataframe tbody tr th:only-of-type {\n",
       "        vertical-align: middle;\n",
       "    }\n",
       "\n",
       "    .dataframe tbody tr th {\n",
       "        vertical-align: top;\n",
       "    }\n",
       "\n",
       "    .dataframe thead th {\n",
       "        text-align: right;\n",
       "    }\n",
       "</style>\n",
       "<table border=\"1\" class=\"dataframe\">\n",
       "  <thead>\n",
       "    <tr style=\"text-align: right;\">\n",
       "      <th></th>\n",
       "      <th>n</th>\n",
       "      <th>r</th>\n",
       "      <th>CI95%</th>\n",
       "      <th>p-val</th>\n",
       "    </tr>\n",
       "  </thead>\n",
       "  <tbody>\n",
       "    <tr>\n",
       "      <th>spearman</th>\n",
       "      <td>18</td>\n",
       "      <td>-0.468</td>\n",
       "      <td>[-0.77, 0.02]</td>\n",
       "      <td>0.058</td>\n",
       "    </tr>\n",
       "  </tbody>\n",
       "</table>\n",
       "</div>"
      ],
      "text/plain": [
       "           n      r          CI95%  p-val\n",
       "spearman  18 -0.468  [-0.77, 0.02]  0.058"
      ]
     },
     "execution_count": 14,
     "metadata": {},
     "output_type": "execute_result"
    }
   ],
   "source": [
    "pg.partial_corr(data=AlII_df, x='N', y='MS_LAT', covar='RHO', method = \"spearman\").round(3)"
   ]
  },
  {
   "cell_type": "markdown",
   "id": "05a59c99",
   "metadata": {},
   "source": [
    "## C II"
   ]
  },
  {
   "cell_type": "code",
   "execution_count": 15,
   "id": "175c8b5a",
   "metadata": {},
   "outputs": [
    {
     "data": {
      "text/html": [
       "<div>\n",
       "<style scoped>\n",
       "    .dataframe tbody tr th:only-of-type {\n",
       "        vertical-align: middle;\n",
       "    }\n",
       "\n",
       "    .dataframe tbody tr th {\n",
       "        vertical-align: top;\n",
       "    }\n",
       "\n",
       "    .dataframe thead th {\n",
       "        text-align: right;\n",
       "    }\n",
       "</style>\n",
       "<table border=\"1\" class=\"dataframe\">\n",
       "  <thead>\n",
       "    <tr style=\"text-align: right;\">\n",
       "      <th></th>\n",
       "      <th>n</th>\n",
       "      <th>r</th>\n",
       "      <th>CI95%</th>\n",
       "      <th>p-val</th>\n",
       "    </tr>\n",
       "  </thead>\n",
       "  <tbody>\n",
       "    <tr>\n",
       "      <th>spearman</th>\n",
       "      <td>20</td>\n",
       "      <td>-0.525</td>\n",
       "      <td>[-0.79, -0.09]</td>\n",
       "      <td>0.021</td>\n",
       "    </tr>\n",
       "  </tbody>\n",
       "</table>\n",
       "</div>"
      ],
      "text/plain": [
       "           n      r           CI95%  p-val\n",
       "spearman  20 -0.525  [-0.79, -0.09]  0.021"
      ]
     },
     "execution_count": 15,
     "metadata": {},
     "output_type": "execute_result"
    }
   ],
   "source": [
    "pg.partial_corr(data=CII_df, x='N', y='RHO', covar='MS_LAT', method = \"spearman\").round(3)"
   ]
  },
  {
   "cell_type": "code",
   "execution_count": 16,
   "id": "b2f33324",
   "metadata": {},
   "outputs": [
    {
     "data": {
      "text/html": [
       "<div>\n",
       "<style scoped>\n",
       "    .dataframe tbody tr th:only-of-type {\n",
       "        vertical-align: middle;\n",
       "    }\n",
       "\n",
       "    .dataframe tbody tr th {\n",
       "        vertical-align: top;\n",
       "    }\n",
       "\n",
       "    .dataframe thead th {\n",
       "        text-align: right;\n",
       "    }\n",
       "</style>\n",
       "<table border=\"1\" class=\"dataframe\">\n",
       "  <thead>\n",
       "    <tr style=\"text-align: right;\">\n",
       "      <th></th>\n",
       "      <th>n</th>\n",
       "      <th>r</th>\n",
       "      <th>CI95%</th>\n",
       "      <th>p-val</th>\n",
       "    </tr>\n",
       "  </thead>\n",
       "  <tbody>\n",
       "    <tr>\n",
       "      <th>spearman</th>\n",
       "      <td>20</td>\n",
       "      <td>-0.076</td>\n",
       "      <td>[-0.51, 0.39]</td>\n",
       "      <td>0.758</td>\n",
       "    </tr>\n",
       "  </tbody>\n",
       "</table>\n",
       "</div>"
      ],
      "text/plain": [
       "           n      r          CI95%  p-val\n",
       "spearman  20 -0.076  [-0.51, 0.39]  0.758"
      ]
     },
     "execution_count": 16,
     "metadata": {},
     "output_type": "execute_result"
    }
   ],
   "source": [
    "pg.partial_corr(data=CII_df, x='N', y='MS_LAT', covar='RHO', method = \"spearman\").round(3)"
   ]
  },
  {
   "cell_type": "markdown",
   "id": "20638479",
   "metadata": {},
   "source": [
    "## Fe II"
   ]
  },
  {
   "cell_type": "code",
   "execution_count": 17,
   "id": "0f7aa767",
   "metadata": {},
   "outputs": [
    {
     "data": {
      "text/html": [
       "<div>\n",
       "<style scoped>\n",
       "    .dataframe tbody tr th:only-of-type {\n",
       "        vertical-align: middle;\n",
       "    }\n",
       "\n",
       "    .dataframe tbody tr th {\n",
       "        vertical-align: top;\n",
       "    }\n",
       "\n",
       "    .dataframe thead th {\n",
       "        text-align: right;\n",
       "    }\n",
       "</style>\n",
       "<table border=\"1\" class=\"dataframe\">\n",
       "  <thead>\n",
       "    <tr style=\"text-align: right;\">\n",
       "      <th></th>\n",
       "      <th>n</th>\n",
       "      <th>r</th>\n",
       "      <th>CI95%</th>\n",
       "      <th>p-val</th>\n",
       "    </tr>\n",
       "  </thead>\n",
       "  <tbody>\n",
       "    <tr>\n",
       "      <th>spearman</th>\n",
       "      <td>12</td>\n",
       "      <td>-0.143</td>\n",
       "      <td>[-0.68, 0.5]</td>\n",
       "      <td>0.676</td>\n",
       "    </tr>\n",
       "  </tbody>\n",
       "</table>\n",
       "</div>"
      ],
      "text/plain": [
       "           n      r         CI95%  p-val\n",
       "spearman  12 -0.143  [-0.68, 0.5]  0.676"
      ]
     },
     "execution_count": 17,
     "metadata": {},
     "output_type": "execute_result"
    }
   ],
   "source": [
    "pg.partial_corr(data=FeII_df, x='N', y='RHO', covar='MS_LAT', method = \"spearman\").round(3)"
   ]
  },
  {
   "cell_type": "code",
   "execution_count": 18,
   "id": "84e1479e",
   "metadata": {},
   "outputs": [
    {
     "data": {
      "text/html": [
       "<div>\n",
       "<style scoped>\n",
       "    .dataframe tbody tr th:only-of-type {\n",
       "        vertical-align: middle;\n",
       "    }\n",
       "\n",
       "    .dataframe tbody tr th {\n",
       "        vertical-align: top;\n",
       "    }\n",
       "\n",
       "    .dataframe thead th {\n",
       "        text-align: right;\n",
       "    }\n",
       "</style>\n",
       "<table border=\"1\" class=\"dataframe\">\n",
       "  <thead>\n",
       "    <tr style=\"text-align: right;\">\n",
       "      <th></th>\n",
       "      <th>n</th>\n",
       "      <th>r</th>\n",
       "      <th>CI95%</th>\n",
       "      <th>p-val</th>\n",
       "    </tr>\n",
       "  </thead>\n",
       "  <tbody>\n",
       "    <tr>\n",
       "      <th>spearman</th>\n",
       "      <td>12</td>\n",
       "      <td>-0.561</td>\n",
       "      <td>[-0.87, 0.06]</td>\n",
       "      <td>0.072</td>\n",
       "    </tr>\n",
       "  </tbody>\n",
       "</table>\n",
       "</div>"
      ],
      "text/plain": [
       "           n      r          CI95%  p-val\n",
       "spearman  12 -0.561  [-0.87, 0.06]  0.072"
      ]
     },
     "execution_count": 18,
     "metadata": {},
     "output_type": "execute_result"
    }
   ],
   "source": [
    "pg.partial_corr(data=FeII_df, x='N', y='MS_LAT', covar='RHO', method = \"spearman\").round(3)"
   ]
  },
  {
   "cell_type": "markdown",
   "id": "2e4cc918",
   "metadata": {},
   "source": [
    "## O I"
   ]
  },
  {
   "cell_type": "code",
   "execution_count": 19,
   "id": "33f0379a",
   "metadata": {},
   "outputs": [
    {
     "data": {
      "text/html": [
       "<div>\n",
       "<style scoped>\n",
       "    .dataframe tbody tr th:only-of-type {\n",
       "        vertical-align: middle;\n",
       "    }\n",
       "\n",
       "    .dataframe tbody tr th {\n",
       "        vertical-align: top;\n",
       "    }\n",
       "\n",
       "    .dataframe thead th {\n",
       "        text-align: right;\n",
       "    }\n",
       "</style>\n",
       "<table border=\"1\" class=\"dataframe\">\n",
       "  <thead>\n",
       "    <tr style=\"text-align: right;\">\n",
       "      <th></th>\n",
       "      <th>n</th>\n",
       "      <th>r</th>\n",
       "      <th>CI95%</th>\n",
       "      <th>p-val</th>\n",
       "    </tr>\n",
       "  </thead>\n",
       "  <tbody>\n",
       "    <tr>\n",
       "      <th>spearman</th>\n",
       "      <td>13</td>\n",
       "      <td>-0.117</td>\n",
       "      <td>[-0.65, 0.49]</td>\n",
       "      <td>0.717</td>\n",
       "    </tr>\n",
       "  </tbody>\n",
       "</table>\n",
       "</div>"
      ],
      "text/plain": [
       "           n      r          CI95%  p-val\n",
       "spearman  13 -0.117  [-0.65, 0.49]  0.717"
      ]
     },
     "execution_count": 19,
     "metadata": {},
     "output_type": "execute_result"
    }
   ],
   "source": [
    "pg.partial_corr(data=OI_df, x='N', y='RHO', covar='MS_LAT', method = \"spearman\").round(3)"
   ]
  },
  {
   "cell_type": "code",
   "execution_count": 20,
   "id": "d7b50205",
   "metadata": {},
   "outputs": [
    {
     "data": {
      "text/html": [
       "<div>\n",
       "<style scoped>\n",
       "    .dataframe tbody tr th:only-of-type {\n",
       "        vertical-align: middle;\n",
       "    }\n",
       "\n",
       "    .dataframe tbody tr th {\n",
       "        vertical-align: top;\n",
       "    }\n",
       "\n",
       "    .dataframe thead th {\n",
       "        text-align: right;\n",
       "    }\n",
       "</style>\n",
       "<table border=\"1\" class=\"dataframe\">\n",
       "  <thead>\n",
       "    <tr style=\"text-align: right;\">\n",
       "      <th></th>\n",
       "      <th>n</th>\n",
       "      <th>r</th>\n",
       "      <th>CI95%</th>\n",
       "      <th>p-val</th>\n",
       "    </tr>\n",
       "  </thead>\n",
       "  <tbody>\n",
       "    <tr>\n",
       "      <th>spearman</th>\n",
       "      <td>13</td>\n",
       "      <td>-0.693</td>\n",
       "      <td>[-0.91, -0.2]</td>\n",
       "      <td>0.012</td>\n",
       "    </tr>\n",
       "  </tbody>\n",
       "</table>\n",
       "</div>"
      ],
      "text/plain": [
       "           n      r          CI95%  p-val\n",
       "spearman  13 -0.693  [-0.91, -0.2]  0.012"
      ]
     },
     "execution_count": 20,
     "metadata": {},
     "output_type": "execute_result"
    }
   ],
   "source": [
    "pg.partial_corr(data=OI_df, x='N', y='MS_LAT', covar='RHO', method = \"spearman\").round(3)"
   ]
  }
 ],
 "metadata": {
  "kernelspec": {
   "display_name": "Python 3 (ipykernel)",
   "language": "python",
   "name": "python3"
  },
  "language_info": {
   "codemirror_mode": {
    "name": "ipython",
    "version": 3
   },
   "file_extension": ".py",
   "mimetype": "text/x-python",
   "name": "python",
   "nbconvert_exporter": "python",
   "pygments_lexer": "ipython3",
   "version": "3.8.12"
  }
 },
 "nbformat": 4,
 "nbformat_minor": 5
}
