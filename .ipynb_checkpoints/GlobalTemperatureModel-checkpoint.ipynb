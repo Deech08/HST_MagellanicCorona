{
 "cells": [
  {
   "cell_type": "code",
   "execution_count": 17,
   "id": "93b52487",
   "metadata": {},
   "outputs": [],
   "source": [
    "import numpy as np\n",
    "import astropy.units as u\n",
    "import matplotlib.pyplot as plt\n",
    "\n",
    "from astropy.coordinates import SkyCoord\n",
    "from astropy.table import QTable, join\n",
    "%matplotlib notebook\n",
    "\n",
    "import seaborn as sns\n",
    "pal = sns.color_palette(\"colorblind\")\n",
    "\n",
    "import pickle\n",
    "import emcee\n",
    "\n",
    "from scipy.interpolate import interp1d\n"
   ]
  },
  {
   "cell_type": "code",
   "execution_count": 12,
   "id": "594fc394",
   "metadata": {},
   "outputs": [],
   "source": [
    "# Load Full Data\n",
    "full_ideal_res = QTable.read(\"Data/Full_Ideal_CloudyResults_wNHII.fits\")\n",
    "\n",
    "# Load Colissional Models of Gnat+2007\n",
    "CIE = QTable.read(\"Data/CIEModels.fits\")\n",
    "ISOB = QTable.read(\"Data/ISOBModels.fits\")\n",
    "ISOCh = QTable.read(\"Data/ISOChModels.fits\")"
   ]
  },
  {
   "cell_type": "code",
   "execution_count": 24,
   "id": "48657e78",
   "metadata": {},
   "outputs": [],
   "source": [
    "ISOCh[\"LOG_CIV/SiIV\"].mask |= np.isinf(ISOCh[\"LOG_CIV/SiIV\"])\n",
    "ISOB[\"LOG_CIV/SiIV\"].mask |= np.isinf(ISOB[\"LOG_CIV/SiIV\"])\n",
    "CIE[\"LOG_CIV/SiIV\"].mask |= np.isinf(CIE[\"LOG_CIV/SiIV\"])"
   ]
  },
  {
   "cell_type": "code",
   "execution_count": 30,
   "id": "18f059c0",
   "metadata": {},
   "outputs": [],
   "source": [
    "ISOCh_interper = interp1d(np.log10(ISOCh[\"T\"].value)[~ISOCh[\"LOG_CIV/SiIV\"].mask],\n",
    "                          ISOCh[\"LOG_CIV/SiIV\"].data[~ISOCh[\"LOG_CIV/SiIV\"].mask], \n",
    "                          fill_value = np.nan, \n",
    "                          bounds_error = False)\n",
    "\n",
    "ISOB_interper = interp1d(np.log10(ISOB[\"T\"].value)[~ISOB[\"LOG_CIV/SiIV\"].mask],\n",
    "                          ISOB[\"LOG_CIV/SiIV\"].data[~ISOB[\"LOG_CIV/SiIV\"].mask], \n",
    "                          fill_value = np.nan, \n",
    "                          bounds_error = False)\n",
    "\n",
    "CIE_interper = interp1d(np.log10(CIE[\"T\"].value)[~CIE[\"LOG_CIV/SiIV\"].mask],\n",
    "                          CIE[\"LOG_CIV/SiIV\"].data[~CIE[\"LOG_CIV/SiIV\"].mask], \n",
    "                          fill_value = np.nan, \n",
    "                          bounds_error = False)"
   ]
  },
  {
   "cell_type": "code",
   "execution_count": 59,
   "id": "12606730",
   "metadata": {},
   "outputs": [],
   "source": [
    "good_col_meas_mask = (full_ideal_res[\"CIV_to_SiIV_BAD\"] | \n",
    "                  full_ideal_res[\"CIV_to_SiIV_LL\"] | \n",
    "                  full_ideal_res[\"CIV_to_SiIV_UL\"])\n",
    "\n",
    "good_col_meas_mask = np.invert(good_meas_mask)\n",
    "\n",
    "not_photo_mask = full_ideal_res[\"N_CIV\"]/full_ideal_res[\"MEAS_N_CIV\"] < .1\n",
    "not_photo_mask &= full_ideal_res[\"N_SiIV\"]/full_ideal_res[\"MEAS_N_SiIV\"] < .1\n",
    "\n",
    "good_b_CIV = ~np.isnan(full_ideal_res[\"B_CIV\"])\n",
    "good_b_SiIV = ~np.isnan(full_ideal_res[\"B_SiIV\"])\n",
    "\n",
    "vel_mask = full_ideal_res[\"MEAS_V_CIV\"]>150*u.km/u.s"
   ]
  },
  {
   "cell_type": "code",
   "execution_count": 61,
   "id": "5da6494e",
   "metadata": {},
   "outputs": [
    {
     "data": {
      "text/plain": [
       "28"
      ]
     },
     "execution_count": 61,
     "metadata": {},
     "output_type": "execute_result"
    }
   ],
   "source": []
  },
  {
   "cell_type": "code",
   "execution_count": 70,
   "id": "53a59744",
   "metadata": {},
   "outputs": [
    {
     "data": {
      "text/plain": [
       "49"
      ]
     },
     "execution_count": 70,
     "metadata": {},
     "output_type": "execute_result"
    }
   ],
   "source": [
    "np.sum(full_ideal_res[\"MEAS_V_CIV\"]>150*u.km/u.s)"
   ]
  },
  {
   "cell_type": "code",
   "execution_count": null,
   "id": "7697b677",
   "metadata": {},
   "outputs": [],
   "source": []
  }
 ],
 "metadata": {
  "kernelspec": {
   "display_name": "Python 3 (ipykernel)",
   "language": "python",
   "name": "python3"
  },
  "language_info": {
   "codemirror_mode": {
    "name": "ipython",
    "version": 3
   },
   "file_extension": ".py",
   "mimetype": "text/x-python",
   "name": "python",
   "nbconvert_exporter": "python",
   "pygments_lexer": "ipython3",
   "version": "3.8.12"
  }
 },
 "nbformat": 4,
 "nbformat_minor": 5
}
